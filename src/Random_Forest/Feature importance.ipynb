{
 "cells": [
  {
   "cell_type": "code",
   "execution_count": 1,
   "metadata": {
    "collapsed": true
   },
   "outputs": [],
   "source": [
    "import pandas as pd\n",
    "import numpy as np\n",
    "import geohash"
   ]
  },
  {
   "cell_type": "code",
   "execution_count": 2,
   "metadata": {
    "collapsed": false
   },
   "outputs": [],
   "source": [
    "names = [\"time\", \"time_num\", \"time_cos\", \"time_sin\", \"day\", \"day_num\", \"day_cos\", \"day_sin\", \"weekend\", \"geohash\", \"pickups\"]\n",
    "dftaxi = pd.read_csv(\"taxi_data.csv\", header = None, names = names)"
   ]
  },
  {
   "cell_type": "code",
   "execution_count": 3,
   "metadata": {
    "collapsed": true
   },
   "outputs": [],
   "source": [
    "Xnames = [\"time\", \"time_num\", \"time_cos\", \"time_sin\", \"day\",\n",
    "          \"day_num\", \"day_cos\", \"day_sin\", \"weekend\", \"geohash\"]\n",
    "X = dftaxi[Xnames]"
   ]
  },
  {
   "cell_type": "code",
   "execution_count": 4,
   "metadata": {
    "collapsed": true
   },
   "outputs": [],
   "source": [
    "y = np.log10(dftaxi['pickups']+1).astype(float)"
   ]
  },
  {
   "cell_type": "code",
   "execution_count": 5,
   "metadata": {
    "collapsed": true
   },
   "outputs": [],
   "source": [
    "def decodegeo(geo, which):\n",
    "    if len(geo) >= 6:\n",
    "        geodecoded = geohash.decode(geo)\n",
    "        return geodecoded[which]\n",
    "    else:\n",
    "        return 0"
   ]
  },
  {
   "cell_type": "code",
   "execution_count": 6,
   "metadata": {
    "collapsed": false
   },
   "outputs": [
    {
     "data": {
      "text/html": [
       "<div style=\"max-height:1000px;max-width:1500px;overflow:auto;\">\n",
       "<table border=\"1\" class=\"dataframe\">\n",
       "  <thead>\n",
       "    <tr style=\"text-align: right;\">\n",
       "      <th></th>\n",
       "      <th>time</th>\n",
       "      <th>time_num</th>\n",
       "      <th>time_cos</th>\n",
       "      <th>time_sin</th>\n",
       "      <th>day</th>\n",
       "      <th>day_num</th>\n",
       "      <th>day_cos</th>\n",
       "      <th>day_sin</th>\n",
       "      <th>weekend</th>\n",
       "      <th>geohash</th>\n",
       "    </tr>\n",
       "  </thead>\n",
       "  <tbody>\n",
       "    <tr>\n",
       "      <th>0</th>\n",
       "      <td> 22:00</td>\n",
       "      <td> 0.937500</td>\n",
       "      <td> 0.923880</td>\n",
       "      <td>-0.382683</td>\n",
       "      <td>    Monday</td>\n",
       "      <td> 0.133929</td>\n",
       "      <td> 0.666347</td>\n",
       "      <td> 0.745642</td>\n",
       "      <td> 0</td>\n",
       "      <td> dr5rst</td>\n",
       "    </tr>\n",
       "    <tr>\n",
       "      <th>1</th>\n",
       "      <td> 22:00</td>\n",
       "      <td> 0.937500</td>\n",
       "      <td> 0.923880</td>\n",
       "      <td>-0.382683</td>\n",
       "      <td>    Monday</td>\n",
       "      <td> 0.133929</td>\n",
       "      <td> 0.666347</td>\n",
       "      <td> 0.745642</td>\n",
       "      <td> 0</td>\n",
       "      <td> dr5xep</td>\n",
       "    </tr>\n",
       "    <tr>\n",
       "      <th>2</th>\n",
       "      <td> 02:00</td>\n",
       "      <td> 0.104167</td>\n",
       "      <td> 0.793353</td>\n",
       "      <td> 0.608761</td>\n",
       "      <td> Wednesday</td>\n",
       "      <td> 0.300595</td>\n",
       "      <td>-0.312572</td>\n",
       "      <td> 0.949894</td>\n",
       "      <td> 0</td>\n",
       "      <td> dr5rek</td>\n",
       "    </tr>\n",
       "    <tr>\n",
       "      <th>3</th>\n",
       "      <td> 05:00</td>\n",
       "      <td> 0.229167</td>\n",
       "      <td> 0.130526</td>\n",
       "      <td> 0.991445</td>\n",
       "      <td>  Thursday</td>\n",
       "      <td> 0.461310</td>\n",
       "      <td>-0.970597</td>\n",
       "      <td> 0.240712</td>\n",
       "      <td> 0</td>\n",
       "      <td> dr72qr</td>\n",
       "    </tr>\n",
       "    <tr>\n",
       "      <th>4</th>\n",
       "      <td> 08:00</td>\n",
       "      <td> 0.354167</td>\n",
       "      <td>-0.608761</td>\n",
       "      <td> 0.793353</td>\n",
       "      <td>   Tuesday</td>\n",
       "      <td> 0.193452</td>\n",
       "      <td> 0.347871</td>\n",
       "      <td> 0.937542</td>\n",
       "      <td> 0</td>\n",
       "      <td> dr70jn</td>\n",
       "    </tr>\n",
       "  </tbody>\n",
       "</table>\n",
       "<p>5 rows × 10 columns</p>\n",
       "</div>"
      ],
      "text/plain": [
       "    time  time_num  time_cos  time_sin        day   day_num   day_cos  \\\n",
       "0  22:00  0.937500  0.923880 -0.382683     Monday  0.133929  0.666347   \n",
       "1  22:00  0.937500  0.923880 -0.382683     Monday  0.133929  0.666347   \n",
       "2  02:00  0.104167  0.793353  0.608761  Wednesday  0.300595 -0.312572   \n",
       "3  05:00  0.229167  0.130526  0.991445   Thursday  0.461310 -0.970597   \n",
       "4  08:00  0.354167 -0.608761  0.793353    Tuesday  0.193452  0.347871   \n",
       "\n",
       "    day_sin  weekend geohash  \n",
       "0  0.745642        0  dr5rst  \n",
       "1  0.745642        0  dr5xep  \n",
       "2  0.949894        0  dr5rek  \n",
       "3  0.240712        0  dr72qr  \n",
       "4  0.937542        0  dr70jn  \n",
       "\n",
       "[5 rows x 10 columns]"
      ]
     },
     "execution_count": 6,
     "metadata": {},
     "output_type": "execute_result"
    }
   ],
   "source": [
    "X.head()"
   ]
  },
  {
   "cell_type": "code",
   "execution_count": 7,
   "metadata": {
    "collapsed": false
   },
   "outputs": [
    {
     "data": {
      "text/plain": [
       "0    3.738543\n",
       "1    0.602060\n",
       "2    1.278754\n",
       "3    1.740363\n",
       "4    0.477121\n",
       "Name: pickups, dtype: float64"
      ]
     },
     "execution_count": 7,
     "metadata": {},
     "output_type": "execute_result"
    }
   ],
   "source": [
    "y.head()"
   ]
  },
  {
   "cell_type": "code",
   "execution_count": 8,
   "metadata": {
    "collapsed": true
   },
   "outputs": [],
   "source": [
    "X['latitude'] = X['geohash'].apply(lambda geo: decodegeo(geo, 0))\n",
    "X['longitude'] = X['geohash'].apply(lambda geo: decodegeo(geo, 1))"
   ]
  },
  {
   "cell_type": "code",
   "execution_count": 9,
   "metadata": {
    "collapsed": true
   },
   "outputs": [],
   "source": [
    "list_Xname = list(X.drop(['time','day','geohash'], axis=1).columns.values)\n",
    "X = np.asarray(X.drop(['time','day','geohash'], axis=1).astype(float))\n",
    "y = np.asarray(y, dtype=\"|S6\")"
   ]
  },
  {
   "cell_type": "code",
   "execution_count": 16,
   "metadata": {
    "collapsed": true
   },
   "outputs": [],
   "source": [
    "from sklearn.ensemble import RandomForestClassifier\n",
    "clf = RandomForestClassifier(n_estimators=5)\n",
    "clf = clf.fit(X, y)\n",
    "imp = clf.feature_importances_"
   ]
  },
  {
   "cell_type": "code",
   "execution_count": 17,
   "metadata": {
    "collapsed": false
   },
   "outputs": [
    {
     "name": "stdout",
     "output_type": "stream",
     "text": [
      "[ 0.07469235  0.09498929  0.06688811  0.12109342  0.14411585  0.09711241\n",
      "  0.0143145   0.18008993  0.20670415]\n"
     ]
    }
   ],
   "source": [
    "print imp"
   ]
  },
  {
   "cell_type": "code",
   "execution_count": 18,
   "metadata": {
    "collapsed": false
   },
   "outputs": [],
   "source": [
    "import matplotlib.pyplot as plt"
   ]
  },
  {
   "cell_type": "code",
   "execution_count": 19,
   "metadata": {
    "collapsed": true
   },
   "outputs": [],
   "source": [
    "dictionary = plt.figure()\n",
    "plt.bar(range(len(imp)), imp, align='center', alpha = 0.5)\n",
    "plt.xticks(range(len(list_Xname)), list_Xname, rotation='vertical')\n",
    "plt.subplots_adjust(bottom=0.2)\n",
    "#plt.savefig('feature_importance.png')"
   ]
  },
  {
   "cell_type": "code",
   "execution_count": 20,
   "metadata": {
    "collapsed": false
   },
   "outputs": [
    {
     "data": {
      "image/png": "[encoded data removed]",
      "text/plain": [
       "<IPython.core.display.Image object>"
      ]
     },
     "execution_count": 20,
     "metadata": {},
     "output_type": "execute_result"
    }
   ],
   "source": [
    "from IPython.display import Image\n",
    "Image(\"feature_importance.png\")"
   ]
  },
  {
   "cell_type": "code",
   "execution_count": null,
   "metadata": {
    "collapsed": true
   },
   "outputs": [],
   "source": []
  }
 ],
 "metadata": {
  "anaconda-cloud": {},
  "kernelspec": {
   "display_name": "Python [Root]",
   "language": "python",
   "name": "Python [Root]"
  },
  "language_info": {
   "codemirror_mode": {
    "name": "ipython",
    "version": 2
   },
   "file_extension": ".py",
   "mimetype": "text/x-python",
   "name": "python",
   "nbconvert_exporter": "python",
   "pygments_lexer": "ipython2",
   "version": "2.7.12"
  }
 },
 "nbformat": 4,
 "nbformat_minor": 0
}
