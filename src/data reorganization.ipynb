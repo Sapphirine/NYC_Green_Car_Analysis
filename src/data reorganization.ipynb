{
 "cells": [
  {
   "cell_type": "code",
   "execution_count": 1,
   "metadata": {
    "collapsed": true
   },
   "outputs": [],
   "source": [
    "import csv\n",
    "import numpy as np"
   ]
  },
  {
   "cell_type": "markdown",
   "metadata": {},
   "source": [
    "Clean the rows that has longitude 0.0 and latitude 0.0 for pick-up or drop-off"
   ]
  },
  {
   "cell_type": "code",
   "execution_count": 2,
   "metadata": {
    "collapsed": true
   },
   "outputs": [],
   "source": [
    "with open('DataWithCount.csv', 'rb') as inp, open('Data.csv', 'wb') as out:\n",
    "    writer = csv.writer(out)\n",
    "    for row in csv.reader(inp):\n",
    "        if row[2] != '0.0' and row[5] != '0.0':\n",
    "            writer.writerow(row)"
   ]
  },
  {
   "cell_type": "markdown",
   "metadata": {},
   "source": [
    "Calculate pickups in each time period"
   ]
  },
  {
   "cell_type": "code",
   "execution_count": 4,
   "metadata": {
    "collapsed": false
   },
   "outputs": [
    {
     "name": "stdout",
     "output_type": "stream",
     "text": [
      "[66091, 49900, 69738, 24356, 21575, 16770, 22896, 40171, 58716, 60246, 55371, 56615, 57832, 58310, 67355, 74096, 78908, 85783, 94628, 89682, 68142, 71992, 74337, 76085]\n"
     ]
    }
   ],
   "source": [
    "pickups = []\n",
    "for i in range(0, 24):\n",
    "    reader = csv.reader(open(\"Dataset/Data\" + str(i) + \".csv\", \"rb\"))\n",
    "    x = list(reader)\n",
    "    result = np.array(x)\n",
    "    pick = result.shape[0]\n",
    "    #print pick\n",
    "    pickups.append(pick)\n",
    "\n",
    "print pickups"
   ]
  },
  {
   "cell_type": "markdown",
   "metadata": {},
   "source": [
    "Append the number of pick-ups at the end of each row"
   ]
  },
  {
   "cell_type": "code",
   "execution_count": 5,
   "metadata": {
    "collapsed": true
   },
   "outputs": [],
   "source": [
    "with open('Data.csv', 'rb') as inp, open('DataWithCount.csv', 'wb') as out:\n",
    "    writer = csv.writer(out)\n",
    "    for row in csv.reader(inp):\n",
    "        for time in range(0, 24):\n",
    "            if time < 10:\n",
    "                stringa = \" 0\" + str(time) + \":\"\n",
    "            else:\n",
    "                stringa = \" \" + str(time) + \":\"\n",
    "            if stringa in row[0]:\n",
    "                row.append(pickups[time])\n",
    "                row[0] = str(time)\n",
    "                row[1] = str(time)\n",
    "        writer.writerow(row)"
   ]
  },
  {
   "cell_type": "code",
   "execution_count": null,
   "metadata": {
    "collapsed": true
   },
   "outputs": [],
   "source": []
  }
 ],
 "metadata": {
  "kernelspec": {
   "display_name": "Python [Root]",
   "language": "python",
   "name": "Python [Root]"
  },
  "language_info": {
   "codemirror_mode": {
    "name": "ipython",
    "version": 2
   },
   "file_extension": ".py",
   "mimetype": "text/x-python",
   "name": "python",
   "nbconvert_exporter": "python",
   "pygments_lexer": "ipython2",
   "version": "2.7.12"
  }
 },
 "nbformat": 4,
 "nbformat_minor": 0
}
