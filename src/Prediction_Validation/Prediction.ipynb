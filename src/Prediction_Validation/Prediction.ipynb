{
 "cells": [
  {
   "cell_type": "code",
   "execution_count": 2,
   "metadata": {
    "collapsed": true
   },
   "outputs": [],
   "source": [
    "import csv"
   ]
  },
  {
   "cell_type": "code",
   "execution_count": 3,
   "metadata": {
    "collapsed": false
   },
   "outputs": [],
   "source": [
    "def prediction(time, latitude, longitude):\n",
    "\n",
    "    range_latitude = [latitude - 0.005,  latitude + 0.005]\n",
    "    range_longitude = [longitude - 0.005,  longitude + 0.005]\n",
    "\n",
    "    reader = csv.reader(open(\"Data\" + str(time) + \".csv\", \"rb\"))\n",
    "    print range_latitude\n",
    "    print range_longitude\n",
    "    \n",
    "    total = 0\n",
    "    i = 0\n",
    "    for row in reader:\n",
    "        b1 = float(row[2]) > range_longitude[0]\n",
    "        b2 = float(row[2]) < range_longitude[1]\n",
    "        b3 = float(row[3]) > range_latitude[0]\n",
    "        b4 = float(row[3]) < range_latitude[1]\n",
    "        #row[2] is longitude and row[3] is latitude\n",
    "        if b1 and b2 and b3 and b4:\n",
    "            total += 1\n",
    "\n",
    "    return total"
   ]
  },
  {
   "cell_type": "code",
   "execution_count": 5,
   "metadata": {
    "collapsed": false
   },
   "outputs": [
    {
     "name": "stdout",
     "output_type": "stream",
     "text": [
      "[40.79622205852088, 40.80622205852089]\n",
      "[-73.94985473632812, -73.93985473632813]\n",
      "1829\n"
     ]
    }
   ],
   "source": [
    "number0 = prediction(17, 40.801222058520885, -73.94485473632812)\n",
    "print number0"
   ]
  },
  {
   "cell_type": "code",
   "execution_count": 4,
   "metadata": {
    "collapsed": false
   },
   "outputs": [
    {
     "name": "stdout",
     "output_type": "stream",
     "text": [
      "[40.79414291521959, 40.80414291521959]\n",
      "[-73.95603454589843, -73.94603454589844]\n",
      "1915\n"
     ]
    }
   ],
   "source": [
    "number1 = prediction(17, 40.79914291521959, -73.95103454589844)\n",
    "print number1"
   ]
  },
  {
   "cell_type": "code",
   "execution_count": 6,
   "metadata": {
    "collapsed": false
   },
   "outputs": [
    {
     "name": "stdout",
     "output_type": "stream",
     "text": [
      "[40.795702278801045, 40.80570227880105]\n",
      "[-73.95328796386718, -73.94328796386719]\n",
      "1899\n"
     ]
    }
   ],
   "source": [
    "number2 = prediction(17, 40.80070227880105, -73.94828796386719)\n",
    "print number2"
   ]
  },
  {
   "cell_type": "code",
   "execution_count": 4,
   "metadata": {
    "collapsed": false
   },
   "outputs": [
    {
     "name": "stdout",
     "output_type": "stream",
     "text": [
      "[40.79414291521959, 40.80414291521959]\n",
      "[-73.95878112792968, -73.94878112792969]\n",
      "1650\n"
     ]
    }
   ],
   "source": [
    "number3 = prediction(17, 40.79914291521959, -73.95378112792969)\n",
    "print number3"
   ]
  },
  {
   "cell_type": "code",
   "execution_count": null,
   "metadata": {
    "collapsed": true
   },
   "outputs": [],
   "source": []
  }
 ],
 "metadata": {
  "anaconda-cloud": {},
  "kernelspec": {
   "display_name": "Python [Root]",
   "language": "python",
   "name": "Python [Root]"
  },
  "language_info": {
   "codemirror_mode": {
    "name": "ipython",
    "version": 2
   },
   "file_extension": ".py",
   "mimetype": "text/x-python",
   "name": "python",
   "nbconvert_exporter": "python",
   "pygments_lexer": "ipython2",
   "version": "2.7.12"
  }
 },
 "nbformat": 4,
 "nbformat_minor": 0
}
